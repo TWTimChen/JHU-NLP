{
 "cells": [
  {
   "cell_type": "markdown",
   "id": "da45bff9",
   "metadata": {},
   "source": [
    "# EN.605. 646 01 : Natural Language Processing \n",
    "# Lab 1 (Tim Chen)\n",
    "## (a) Tokenization"
   ]
  },
  {
   "cell_type": "markdown",
   "id": "71f06855",
   "metadata": {},
   "source": [
    "### Processing Description:\n",
    "\n",
    "1. **Punctuation Generation**: For generating all possible punctuation marks, we're looping through the entire Unicode range. For every character, we're checking its Unicode category. If the category is 'Po' (which stands for punctuation, other), we add the punctuation to our list. Common characters like spaces, newlines, tabs, hyphens, and brackets are also added explicitly.\n",
    "  \n",
    "2. **Number Characters Definition**: We're defining number characters simply by creating a list of strings from 0 to 9.\n",
    "\n",
    "3. **Regex Pattern Compilation**: The combined list of punctuation and number characters is used to create a regex pattern. The purpose is to use this pattern to split a given string based on these characters, but still include these characters in the split tokens.\n",
    "\n",
    "4. **Text Tokenization**: The code then reads a file named 'tokens.txt' and processes the first 10 lines of the file. For each line, the code tokenizes the line using the previously defined regex pattern, converts the tokens to lowercase, and then filters out any token that is either empty or just a space.\n",
    "\n",
    "### Sources of Error and Undesirable Results:\n",
    "\n",
    "1. **Escape Characters in Regex**: The use of `re.escape()` while adding punctuation ensures that characters which have special meaning in regex (like `.` or `*`) do not throw off the regex compilation or operation. \n",
    "\n",
    "2. **Numbers and Punctuation Overlap**: By splitting based on both punctuation and numbers, you might end up splitting strings that shouldn't be split (e.g., \"3.14\" would split into \"3\", \".\", \"14\").\n",
    "\n",
    "3. **Chinese and Other No-Spacing Sentences**: Tokenizing languages like Chinese, where there are no spaces between words, can be challenging. The current method doesn't differentiate between punctuation used to end a sentence and punctuation used in other contexts.\n",
    "\n",
    "4. **Case Sensitivity**: Converting tokens to lowercase might lead to a loss of meaning in some contexts. For instance, \"US\" and \"us\" have different meanings. \n",
    "\n",
    "5. **Handling of Spaces**: The current approach filters out spaces, but spaces themselves might be significant in some contexts or applications.\n",
    "\n",
    "###  Ways to Address Issues:\n",
    "\n",
    "1. For numbers like \"3.14\", a more sophisticated tokenizing approach could be used, where periods surrounded by digits aren't treated as punctuation.\n",
    "  \n",
    "2. For Chinese and other similar languages, one might need domain-specific tokenization libraries or methods that are built to understand the language's semantics."
   ]
  },
  {
   "cell_type": "code",
   "execution_count": 10,
   "id": "bd3ca5c7",
   "metadata": {},
   "outputs": [
    {
     "name": "stdout",
     "output_type": "stream",
     "text": [
      "line 1:\n",
      "['russian', 'for', 'plastic', 'bag', 'is', 'полиэтиленовый', 'пакет', '.', '7', '.', '3', 'out', 'of', '1', '0', 'statistics', 'is', 'made', 'up', '.', 'i', 'do', 'not', 'like', 'green', 'eggs', 'and', 'ham', '.', 'i', 'do', '\\n']\n",
      "\n",
      "line 2:\n",
      "['not', 'like', 'them', 'sam', '-', 'i', '-', 'am', '.', 'dr', '.', 'mulholland', 'lives', 'on', 'mulholland', 'dr', '.', 'in', 'hollywood', '.', '1', ',', '2', ',', '3', '.', '.', '.', 'slashdot', '.', 'com', 'has', 'some', 'interesting', '\\n']\n",
      "\n",
      "line 3:\n",
      "['articles', '.', 'i', \"'\", 'm', 'going', 'to', 'update', 'my', 'resumé', '.', 'j', '.', 'h', '.', 'u', '.', 'has', 'a', 'great', 'la', '-', 'crosse', 'team', '.', 'born', 'in', 'the', 'u', '.', 's', '.', 'of', 'a', '.', 'incorrect', 'plurala', 'can', 'be', '\\n']\n",
      "\n",
      "line 4:\n",
      "['fun', '.', 'is', 'capitalization', '(', 'sp', '?', ')', 'truly', 'necessary', '?', 'i', 'think', 'lower', 'case', 'is', 'more', 'legible', '.', 'when', 'people', 'write', 'in', 'all', 'caps', ',', 'it', 'feels', '\\n']\n",
      "\n",
      "line 5:\n",
      "['like', 'they', \"'\", 're', 'yelling', '!', 'it', 'is', 'precisely', 'to', 'these', 'substances', 'that', 'the', 'so', '-', 'called', 'french', 'paradox', 'is', 'ascribed', ':', 'although', 'the', 'french', '\\n']\n",
      "\n",
      "line 6:\n",
      "['certainly', 'aren', '’', 't', 'stingy', 'with', 'food', 'and', 'don', '’', 't', 'exercise', 'much', ',', 'they', 'suffer', 'from', 'far', 'fewer', 'heart', 'attacks', 'than', 'do', 'people', 'in', 'other', '\\n']\n",
      "\n",
      "line 7:\n",
      "['countries', '.', '“', 'we', '’', 've', 'made', 'some', 'real', 'serious', 'changes', 'in', 'the', 'last', 'couple', 'of', 'years', ',', 'and', 'we', '’', 've', 'made', 'a', 'lot', 'of', 'cuts', 'in', 'some', 'areas', '.', '\\n']\n",
      "\n",
      "line 8:\n",
      "['the', 'feds', 'also', 'charged', 'diiorio', 'with', 'using', 'the', 'fake', 'badge', 'at', 'a', 'hotel', 'in', 'june', '.', 'this', 'is', 'the', 'first', 'song', 'i', '’', 've', 'ever', 'written', 'with', '\\n']\n",
      "\n",
      "line 9:\n",
      "['lyrics', ',', 'and', 'it', '’', 's', 'an', 'anthem', 'for', 'myself', 'or', 'a', 'reminder', 'to', 'look', 'inward', '.', '\"', 'asia', 'will', 'continue', 'to', 'lead', 'global', 'ipo', 'activity', 'as', 'domestic', '\\n']\n",
      "\n",
      "line 10:\n",
      "['and', 'foreign', 'ipo', 'pipeline', 'builds', '.', 'xhavit', 'haliti', ',', 'a', 'co', '-', 'chairman', 'of', 'this', 'first', 'meeting', 'between', 'the', 'parliaments', ',', 'noted', 'that', 'the', '\\n']\n",
      "\n"
     ]
    }
   ],
   "source": [
    "import re\n",
    "import unicodedata\n",
    "\n",
    "### Chat GPT Start ###\n",
    "# prompt: can you generate all possible punctuation marks?\n",
    "punctuation = [' ', '\\n', '\\t', '\\r']\n",
    "for i in range(0x110000):  # Go through all valid code points in Unicode\n",
    "    char = chr(i)\n",
    "    if unicodedata.category(char).startswith('P'):\n",
    "        punctuation.append(re.escape(char))\n",
    "### Chat GPT End ###\n",
    "\n",
    "# define number characters\n",
    "nums = [str(i) for i in range(10)]\n",
    "\n",
    "# generate regex pattern\n",
    "pattern = re.compile(f\"({'|'.join(punctuation + nums)})\")\n",
    "\n",
    "# process text to tokens\n",
    "tokens = []\n",
    "with open('./assets/tokens.txt', 'r') as f:\n",
    "    lines = f.readlines()\n",
    "    for i, line in enumerate(lines[:10]):\n",
    "        tokens = [token.lower() for token in re.split(pattern, line) if token and token != ' ']\n",
    "        print(f'line {i+1}:')\n",
    "        print(tokens)\n",
    "        print()"
   ]
  },
  {
   "cell_type": "markdown",
   "id": "378fc858",
   "metadata": {},
   "source": [
    "## (b) Corpus statistics"
   ]
  },
  {
   "cell_type": "code",
   "execution_count": 58,
   "id": "50184541",
   "metadata": {},
   "outputs": [],
   "source": [
    "n_lines = 0\n",
    "n_tokens = 0\n",
    "n_vocab = 0\n",
    "n_vocab_orphan = 0\n",
    "\n",
    "# tokenization\n",
    "tokens = []\n",
    "with open('./assets/tokens.txt', 'r') as f:\n",
    "    lines = f.readlines()\n",
    "    # get number of lines\n",
    "    n_lines = len(lines)\n",
    "    for line in lines:\n",
    "        tokens += [token.lower() for token in re.split(pattern, line) if token and token != ' ']"
   ]
  },
  {
   "cell_type": "code",
   "execution_count": 67,
   "id": "98a6234f",
   "metadata": {
    "scrolled": false
   },
   "outputs": [
    {
     "name": "stdout",
     "output_type": "stream",
     "text": [
      "Number of Lines:                              944802\n",
      "Number of unique tokens (vocabulary size):    261055\n",
      "Number of tokens (collection size):           25572790\n",
      "Number of singleton terms:                    137118\n",
      "Percentage of singletons:                     52.52%\n",
      "\n",
      "Top 10000 frequent tokens:\n",
      "      1. the       1156385\n",
      "      2. .         1128583\n",
      "      3. ,         1027875\n",
      "      4. \\n        944802\n",
      "      5. to        566820\n",
      "      6. and       536552\n",
      "      7. of        488881\n",
      "      8. a         463264\n",
      "      9. in        393733\n",
      "     10. 0         267730\n",
      "     11. -         243360\n",
      "     12. 1         230317\n",
      "     13. for       215585\n",
      "     14. that      203139\n",
      "     15. is        202533\n",
      "     16. s         200061\n",
      "     17. ’         187233\n",
      "     18. 2         181358\n",
      "     19. on        166437\n",
      "     20. it        156512\n",
      "     21. with      149653\n",
      "     22. '         141226\n",
      "     23. was       130759\n",
      "     24. at        128230\n",
      "     25. \"         126344\n",
      "     26. i         118790\n",
      "     27. as        113572\n",
      "     28. be        108181\n",
      "     29. “         106826\n",
      "     30. he        104841\n",
      "     31. ”         102222\n",
      "     32. are       101865\n",
      "     33. said      94493\n",
      "     34. this      92901\n",
      "     35. :         92800\n",
      "     36. we        91879\n",
      "     37. have      91139\n",
      "     38. 5         91026\n",
      "     39. from      90003\n",
      "     40. by        89091\n",
      "     41. 3         85369\n",
      "     42. will      80944\n",
      "     43. you       80631\n",
      "     44. they      76687\n",
      "     45. 4         74045\n",
      "     46. has       73822\n",
      "     47. 6         72830\n",
      "     48. but       71160\n",
      "     49. 9         70222\n",
      "     50. not       70209\n",
      "     51. an        68308\n",
      "     52. his       67917\n",
      "     53. their     60181\n",
      "     54. or        56854\n",
      "     55. 7         55518\n",
      "     56. 8         55387\n",
      "     57. t         53949\n",
      "     58. who       52217\n",
      "     59. one       51349\n",
      "     60. all       51163\n",
      "     61. more      50192\n",
      "     62. )         46853\n",
      "     63. she       46829\n",
      "     64. (         46809\n",
      "     65. about     45838\n",
      "     66. there     45702\n",
      "     67. can       44888\n",
      "     68. were      44521\n",
      "     69. had       43013\n",
      "     70. up        42991\n",
      "     71. been      42094\n",
      "     72. our       40615\n",
      "     73. out       40593\n",
      "     74. her       39922\n",
      "     75. when      39889\n",
      "     76. also      39461\n",
      "     77. year      39144\n",
      "     78. people    38486\n",
      "     79. would     38045\n",
      "     80. new       37119\n",
      "     81. if        36783\n",
      "     82. what      36513\n",
      "     83. which     35558\n",
      "     84. so        35406\n",
      "     85. time      34618\n",
      "     86. two       32472\n",
      "     87. your      31152\n",
      "     88. after     31151\n",
      "     89. ?         31084\n",
      "     90. first     30603\n",
      "     91. its       30124\n",
      "     92. my        29913\n",
      "     93. some      29034\n",
      "     94. just      28877\n",
      "     95. no        28825\n",
      "     96. do        28420\n",
      "     97. like      28276\n",
      "     98. other     28118\n",
      "     99. years     28039\n",
      "    100. than      27942\n",
      "    500. black     4597\n",
      "   1000. named     2463\n",
      "   5000. strip     363\n",
      "  10000. substances129\n",
      "\n"
     ]
    }
   ],
   "source": [
    "def stats(tokens):\n",
    "    # get number of tokens\n",
    "    n_tokens = len(tokens)\n",
    "\n",
    "    # calculate tokens statistics\n",
    "    counter = {}\n",
    "    for token in tokens:\n",
    "        if token not in counter:\n",
    "            counter[token] = 0\n",
    "        counter[token] += 1\n",
    "    sorted_counter = sorted(counter.items(), key=lambda x:x[1], reverse=True)\n",
    "\n",
    "    n_vocab = len(counter)\n",
    "    n_vocab_orphan = sum([1 for token in counter if counter[token] == 1])\n",
    "\n",
    "    print_width = 10\n",
    "    print(f'{\"Number of Lines:\":<45} {n_lines}')\n",
    "    print(f'{\"Number of unique tokens (vocabulary size):\":<45} {n_vocab}')\n",
    "    print(f'{\"Number of tokens (collection size):\":<45} {n_tokens}')\n",
    "    print(f'{\"Number of singleton terms:\":<45} {n_vocab_orphan}')\n",
    "    print(f'{\"Percentage of singletons:\":<45} {(n_vocab_orphan/n_vocab):.2%}')\n",
    "    print()\n",
    "    print('Top 10000 frequent tokens:')\n",
    "    for i, pair in enumerate(sorted_counter[:100]):\n",
    "        if pair[0] == '\\n':\n",
    "            pair = ('\\\\n', pair[1])\n",
    "        print(f'  {str(i+1)+\".\":>6} {pair[0]:<10}{pair[1]}')\n",
    "    for i in [500, 1000, 5000, 10000]:\n",
    "        print(f'  {str(i)+\".\":>6} {sorted_counter[i-1][0]:<10}{sorted_counter[i-1][1]}')\n",
    "    print()\n",
    "\n",
    "stats(tokens)"
   ]
  },
  {
   "cell_type": "markdown",
   "id": "0ad7493c",
   "metadata": {},
   "source": [
    "## (c) Zipf’s Law"
   ]
  },
  {
   "cell_type": "code",
   "execution_count": 17,
   "id": "0934aa2a",
   "metadata": {},
   "outputs": [
    {
     "data": {
      "image/png": "[encoded data removed]",
      "text/plain": [
       "<Figure size 640x480 with 1 Axes>"
      ]
     },
     "metadata": {},
     "output_type": "display_data"
    }
   ],
   "source": [
    "import matplotlib.pyplot as plt\n",
    "\n",
    "data = []\n",
    "for pair in sorted_counter:\n",
    "    data.append(pair[1]/n_tokens)\n",
    "plt.xscale(\"log\")\n",
    "plt.yscale(\"log\")\n",
    "plt.xlabel('log(rank)')\n",
    "plt.ylabel('log(frequency)')\n",
    "plt.plot(data)\n",
    "plt.show()"
   ]
  },
  {
   "cell_type": "markdown",
   "id": "79b771ac",
   "metadata": {},
   "source": [
    "### Analysis\n",
    "The plot looks like a slightly concave diagonal, it indicates that while the tokens frequency exhibits tendencies in line with Zipf's law, it isn't a perfect match. The concavity suggests that medium-frequency words might be appearing more frequently than what pure Zipfian distribution would suggest."
   ]
  },
  {
   "cell_type": "markdown",
   "id": "6dd04894",
   "metadata": {},
   "source": [
    "## (d) Sentence  Boundary  Detection"
   ]
  },
  {
   "cell_type": "code",
   "execution_count": 45,
   "id": "e3e892cb",
   "metadata": {},
   "outputs": [
    {
     "name": "stdout",
     "output_type": "stream",
     "text": [
      "[6, 13, 25]\n"
     ]
    }
   ],
   "source": [
    "def find_sentence_boundaries(text):\n",
    "    # List of common abbreviations that might create false positives.\n",
    "    ### Chat GPT Start ###\n",
    "    # prompt: give me more abbreviations (with context)\n",
    "    abbreviations = [\n",
    "        'Mr.', 'Mrs.', 'Ms.', 'Dr.', 'Jr.', 'Sr.', 'St.', 'Ave.', 'Blvd.', 'Rd.',\n",
    "        'Prof.', 'Gen.', 'Capt.', 'Cpl.', 'Sgt.', 'Mt.', 'Ft.', 'Ph.D.', 'M.A.', 'B.A.',\n",
    "        'B.S.', 'M.S.', 'etc.', 'e.g.', 'i.e.', 'U.S.', 'U.K.', 'U.N.', 'NATO', 'NASA',\n",
    "        'FBI', 'CIA', 'ETA', 'ATM', 'ASAP', 'TV', 'DJ', 'MC', 'CEO', 'CFO', 'COO',\n",
    "        'M.D.', 'R.N.', 'L.P.N.', 'D.D.S.', 'D.M.D.', 'P.A.', 'LLC', 'Inc.', 'Corp.',\n",
    "        'A.M.', 'P.M.', 'No.', 'vol.', 'ed.', 'chap.', 'sec.', 'vs.', 'v.', 'Jan.', \n",
    "        'Feb.', 'Mar.', 'Apr.', 'Jun.', 'Jul.', 'Aug.', 'Sep.', 'Oct.', 'Nov.', 'Dec.'\n",
    "    ]\n",
    "    ### Chat GPT End ###\n",
    "    \n",
    "    # Split the text by spaces and keep track of indices.\n",
    "    words = text.split(' ')\n",
    "    indices = [0]\n",
    "    for word in words[:-1]:\n",
    "        indices.append(indices[-1] + len(word) + 1)\n",
    "    \n",
    "    boundaries = []\n",
    "    for i, (index, word) in enumerate(zip(indices, words)):\n",
    "        if not word:\n",
    "            continue\n",
    "\n",
    "        # Check if it's the end of the string\n",
    "        if i == len(words) - 1:\n",
    "            boundaries.append(index + len(word) - 1)\n",
    "            continue\n",
    "                \n",
    "        # If the word has an end-of-sentence punctuation\n",
    "        if word.endswith(('.', '!', '?')):\n",
    "            \n",
    "            # Check if it's a decimal number\n",
    "            if re.search(r'\\d+\\.\\d+', word):\n",
    "                continue\n",
    "            \n",
    "            # Check if it's an abbreviation\n",
    "            if word in abbreviations or (len(word)>1 and word[-2].isupper() and word.endswith('.')):\n",
    "                continue\n",
    "\n",
    "            # If next word starts with a capital letter, it's likely a boundary\n",
    "            if words[i + 1] and (words[i + 1][0].isupper() or words[i + 1][0] == '\"'):\n",
    "                boundaries.append(index + len(word) - 1)\n",
    "                \n",
    "    return boundaries\n",
    "\n",
    "# Test\n",
    "text = \"I came. I saw! I conquered\"\n",
    "print(find_sentence_boundaries(text))"
   ]
  },
  {
   "cell_type": "markdown",
   "id": "68be5234",
   "metadata": {},
   "source": [
    "### Compute & save the output file"
   ]
  },
  {
   "cell_type": "code",
   "execution_count": 46,
   "id": "4c7a744b",
   "metadata": {},
   "outputs": [],
   "source": [
    "sentences_res = []\n",
    "\n",
    "with open('./assets/sentences.txt', 'r') as f:\n",
    "    lines = f.readlines()\n",
    "    for line in lines:\n",
    "        sentences_res.append(find_sentence_boundaries(line[:-1]))\n",
    "\n",
    "with open('./output/tchen124.txt', 'w') as f:\n",
    "    for res in sentences_res:\n",
    "        res = [str(idx) for idx in res]\n",
    "        f.write(f'{len(res)} {\" \".join(res)}'+'\\n')"
   ]
  },
  {
   "cell_type": "markdown",
   "id": "abc5fb1c",
   "metadata": {},
   "source": [
    "### Estimation of accuracy\n",
    "Define:\n",
    "Accuracy = (Number of Correctly Identified Sentences / Total Number of Sentences) * 100\n",
    "\n",
    "Below we manually check the first 10 inputs and compare it we the above result"
   ]
  },
  {
   "cell_type": "code",
   "execution_count": 52,
   "id": "1f61f90f",
   "metadata": {},
   "outputs": [
    {
     "name": "stdout",
     "output_type": "stream",
     "text": [
      "ACC: 80.00%\n"
     ]
    }
   ],
   "source": [
    "manual_check = [\n",
    "    [27, 236],\n",
    "    [230, 297],\n",
    "    [229, 399, 524],\n",
    "    [253],\n",
    "    [87, 312, 515],\n",
    "    [74, 171, 265],\n",
    "    [205],\n",
    "    [85],\n",
    "    [52, 304],\n",
    "    [191, 264]\n",
    "]\n",
    "\n",
    "test_res = []\n",
    "for i in range(10):\n",
    "    test_res.append(sentences_res[i] == manual_check[i])\n",
    "\n",
    "print(f'ACC: {sum(test_res)/len(test_res):.2%}')"
   ]
  },
  {
   "cell_type": "markdown",
   "id": "04eccf26",
   "metadata": {},
   "source": [
    "## (e) NLTK"
   ]
  },
  {
   "cell_type": "code",
   "execution_count": 65,
   "id": "a592750e",
   "metadata": {},
   "outputs": [],
   "source": [
    "from nltk.tokenize import word_tokenize, sent_tokenize\n",
    "\n",
    "nltk_tokens = []\n",
    "nltk_n_sentence = []\n",
    "with open('./assets/tokens.txt', 'r') as f:\n",
    "    lines = f.readlines()\n",
    "    # get number of lines\n",
    "    n_lines = len(lines)\n",
    "    for line in lines:\n",
    "        nltk_tokens += word_tokenize(line)\n",
    "        nltk_n_sentence.append(len(sent_tokenize(line)))"
   ]
  },
  {
   "cell_type": "markdown",
   "id": "101609a1",
   "metadata": {},
   "source": [
    "### Tokenization Analysis\n",
    "Let's first look at NLTK's statistics"
   ]
  },
  {
   "cell_type": "code",
   "execution_count": 68,
   "id": "7744fbae",
   "metadata": {
    "scrolled": false
   },
   "outputs": [
    {
     "name": "stdout",
     "output_type": "stream",
     "text": [
      "Number of Lines:                              944802\n",
      "Number of unique tokens (vocabulary size):    441458\n",
      "Number of tokens (collection size):           23002384\n",
      "Number of singleton terms:                    262861\n",
      "Percentage of singletons:                     59.54%\n",
      "\n",
      "Top 10000 frequent tokens:\n",
      "      1. the       1006526\n",
      "      2. ,         1004748\n",
      "      3. .         947137\n",
      "      4. to        558319\n",
      "      5. and       519771\n",
      "      6. of        485199\n",
      "      7. a         429196\n",
      "      8. in        363268\n",
      "      9. for       203198\n",
      "     10. is        201258\n",
      "     11. that      190987\n",
      "     12. ’         187233\n",
      "     13. on        157566\n",
      "     14. The       147036\n",
      "     15. with      143212\n",
      "     16. was       131600\n",
      "     17. at        121140\n",
      "     18. I         117075\n",
      "     19. it        112218\n",
      "     20. s         109856\n",
      "     21. be        106917\n",
      "     22. “         106826\n",
      "     23. as        102664\n",
      "     24. ”         102222\n",
      "     25. are       101178\n",
      "     26. said      94264\n",
      "     27. have      90804\n",
      "     28. from      87260\n",
      "     29. by        82602\n",
      "     30. will      79669\n",
      "     31. 's        76124\n",
      "     32. has       73944\n",
      "     33. he        73622\n",
      "     34. not       70071\n",
      "     35. this      69726\n",
      "     36. you       68767\n",
      "     37. :         66560\n",
      "     38. an        65052\n",
      "     39. ``        64826\n",
      "     40. his       63550\n",
      "     41. ''        62500\n",
      "     42. they      59539\n",
      "     43. their     58490\n",
      "     44. we        57560\n",
      "     45. or        54790\n",
      "     46. but       50934\n",
      "     47. who       50717\n",
      "     48. )         46853\n",
      "     49. (         46809\n",
      "     50. more      46398\n",
      "     51. were      44689\n",
      "     52. can       44612\n",
      "     53. about     44574\n",
      "     54. all       43068\n",
      "     55. had       42991\n",
      "     56. It        42464\n",
      "     57. been      42037\n",
      "     58. one       41991\n",
      "     59. up        39173\n",
      "     60. out       38449\n",
      "     61. would     38202\n",
      "     62. her       37578\n",
      "     63. also      37431\n",
      "     64. our       36053\n",
      "     65. people    35403\n",
      "     66. which     34960\n",
      "     67. We        34046\n",
      "     68. she       31911\n",
      "     69. do        31586\n",
      "     70. there     31180\n",
      "     71. ?         31084\n",
      "     72. He        31020\n",
      "     73. time      30925\n",
      "     74. when      30449\n",
      "     75. t         30447\n",
      "     76. its       29195\n",
      "     77. year      29069\n",
      "     78. what      28640\n",
      "     79. your      28506\n",
      "     80. than      27699\n",
      "     81. $         27489\n",
      "     82. so        27432\n",
      "     83. two       27399\n",
      "     84. years     27359\n",
      "     85. In        27013\n",
      "     86. them      26709\n",
      "     87. just      26640\n",
      "     88. other     26522\n",
      "     89. into      26485\n",
      "     90. like      26252\n",
      "     91. new       26016\n",
      "     92. first     25799\n",
      "     93. my        25064\n",
      "     94. A         25011\n",
      "     95. some      24964\n",
      "     96. over      24953\n",
      "     97. after     24344\n",
      "     98. This      22840\n",
      "     99. if        22731\n",
      "    100. get       22574\n",
      "    500. schools   4454\n",
      "   1000. Two       2340\n",
      "   5000. disabled  390\n",
      "  10000. Abe       150\n",
      "\n"
     ]
    }
   ],
   "source": [
    "stats(nltk_tokens)"
   ]
  },
  {
   "cell_type": "markdown",
   "id": "2d333c51",
   "metadata": {},
   "source": [
    "### Differences between the two (Lab vs NLTK)\n",
    "1. Vocabulary & Collection Size: NLTK is more fine-grained, resulting in a larger vocabulary but a smaller collection size.\n",
    "2. Singletons: NLTK has a higher percentage of singletons due to its fine granularity.\n",
    "3. Top Tokens:\n",
    "    * Our tokenizer recognizes newlines and numbers prominently.\n",
    "    * NLTK differentiates between capitalized and lowercase words and has a unique way of handling quotes.\n",
    "4. Specific Tokens: Tokens like \"black\" and \"schools\" rank differently in the two outputs, suggesting different tokenization behaviors."
   ]
  },
  {
   "cell_type": "markdown",
   "id": "50e743f2",
   "metadata": {},
   "source": [
    "### Sentence Splitting Analysis"
   ]
  },
  {
   "cell_type": "code",
   "execution_count": 87,
   "id": "171d131c",
   "metadata": {},
   "outputs": [],
   "source": [
    "n_sentence = []\n",
    "for res in sentences_res:\n",
    "    n_sentence.append(len(res))\n",
    "\n",
    "sentence_diff = []\n",
    "for i in range(len(n_sentence)):\n",
    "    sentence_diff.append(n_sentence[i] - nltk_n_sentence[i])"
   ]
  },
  {
   "cell_type": "markdown",
   "id": "f9db36e0",
   "metadata": {},
   "source": [
    "Let's first look at the differences of splitted sentences number between Lab & NLTK"
   ]
  },
  {
   "cell_type": "code",
   "execution_count": 93,
   "id": "aa386f57",
   "metadata": {},
   "outputs": [
    {
     "data": {
      "image/png": "[encoded data removed]",
      "text/plain": [
       "<Figure size 640x480 with 1 Axes>"
      ]
     },
     "metadata": {},
     "output_type": "display_data"
    }
   ],
   "source": [
    "plt.hist(sentence_diff, rwidth=0.8, bins=range(min(sentence_diff), max(sentence_diff) + 1, 1))\n",
    "plt.xlabel('Differences of splitted sentences # between Lab & NLTK')\n",
    "plt.show()"
   ]
  },
  {
   "cell_type": "markdown",
   "id": "54644242",
   "metadata": {},
   "source": [
    "### Differences between the two (Lab vs NLTK)\n",
    "1. Central Tendency:\n",
    "    * Most differences cluster around 0, meaning both methods frequently agree on sentence counts.\n",
    "2. Skewness:\n",
    "    * The distribution appears slightly skewed to the right of 0. This indicates that there are more instances where NLTK has split texts into additional sentences compared to your lab method.\n",
    "3. Magnitude of Differences:\n",
    "    * There are 4,306 instances where NLTK has exactly one more sentence than the lab method.\n",
    "    * Conversely, there are 998 instances where your lab method identified one more sentence than NLTK.\n",
    "4. Outliers:\n",
    "    * On the negative side (where the lab has more sentences): The most extreme difference is -6, but it's rare (only once).\n",
    "    * On the positive side (where NLTK has more sentences): The most extreme difference is 5, and it has occurred 6 times.\n",
    "5. Minor Differences:\n",
    "    * Differences of 1 sentence (either way) dominate, followed by differences of 2 sentences. Larger differences are increasingly rare.\n",
    "\n",
    "In conclusion, both methods are quite consistent, with the majority of differences being relatively minor. However, the distribution suggests that NLTK occasionally splits sentences more often than your lab method."
   ]
  },
  {
   "cell_type": "code",
   "execution_count": null,
   "id": "c3529c54",
   "metadata": {},
   "outputs": [],
   "source": []
  }
 ],
 "metadata": {
  "kernelspec": {
   "display_name": "Python 3 (ipykernel)",
   "language": "python",
   "name": "python3"
  },
  "language_info": {
   "codemirror_mode": {
    "name": "ipython",
    "version": 3
   },
   "file_extension": ".py",
   "mimetype": "text/x-python",
   "name": "python",
   "nbconvert_exporter": "python",
   "pygments_lexer": "ipython3",
   "version": "3.11.4"
  }
 },
 "nbformat": 4,
 "nbformat_minor": 5
}
